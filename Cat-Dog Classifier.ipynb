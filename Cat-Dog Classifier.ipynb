{
 "cells": [
  {
   "cell_type": "code",
   "execution_count": 51,
   "metadata": {},
   "outputs": [],
   "source": [
    "import tensorflow as tf\n",
    "from keras.preprocessing.image import ImageDataGenerator"
   ]
  },
  {
   "cell_type": "code",
   "execution_count": 52,
   "metadata": {},
   "outputs": [
    {
     "data": {
      "text/plain": [
       "'2.3.0'"
      ]
     },
     "execution_count": 52,
     "metadata": {},
     "output_type": "execute_result"
    }
   ],
   "source": [
    "tf.__version__"
   ]
  },
  {
   "cell_type": "code",
   "execution_count": 53,
   "metadata": {},
   "outputs": [
    {
     "name": "stdout",
     "output_type": "stream",
     "text": [
      "Found 8000 images belonging to 2 classes.\n"
     ]
    }
   ],
   "source": [
    "train_datagen = ImageDataGenerator(\n",
    "        rescale=1./255,\n",
    "        shear_range=0.2,\n",
    "        zoom_range=0.2,\n",
    "        horizontal_flip=True)\n",
    "training_set = train_datagen.flow_from_directory(\n",
    "        'D:/chrome_Download\\Section+40+-+Convolutional+Neural+Networks+(CNN)/Section 40 - Convolutional Neural Networks (CNN)/dataset/training_set',\n",
    "        target_size=(64,64),\n",
    "        batch_size=32,\n",
    "        class_mode='binary')"
   ]
  },
  {
   "cell_type": "code",
   "execution_count": 54,
   "metadata": {},
   "outputs": [
    {
     "name": "stdout",
     "output_type": "stream",
     "text": [
      "Found 2000 images belonging to 2 classes.\n"
     ]
    }
   ],
   "source": [
    "test_datagen = ImageDataGenerator(rescale=1./255)\n",
    "test_set= test_datagen.flow_from_directory(\n",
    "        'D:/chrome_Download\\Section+40+-+Convolutional+Neural+Networks+(CNN)/Section 40 - Convolutional Neural Networks (CNN)/dataset/test_set',\n",
    "        target_size=(64,64),\n",
    "        batch_size=32,\n",
    "        class_mode='binary')"
   ]
  },
  {
   "cell_type": "code",
   "execution_count": 55,
   "metadata": {},
   "outputs": [],
   "source": [
    "cnn = tf.keras.models.Sequential() # initialising the cnn"
   ]
  },
  {
   "cell_type": "code",
   "execution_count": 56,
   "metadata": {},
   "outputs": [],
   "source": [
    "cnn.add(tf.keras.layers.Conv2D(filters=32, kernel_size=3, activation='relu', input_shape=[64, 64, 3])) #convolution"
   ]
  },
  {
   "cell_type": "code",
   "execution_count": 57,
   "metadata": {},
   "outputs": [],
   "source": [
    "cnn.add(tf.keras.layers.MaxPool2D(pool_size =2,strides = 2)) #pooling #first layer"
   ]
  },
  {
   "cell_type": "code",
   "execution_count": 58,
   "metadata": {},
   "outputs": [],
   "source": [
    "cnn.add(tf.keras.layers.Conv2D(filters=32, kernel_size=3, activation='relu'))\n",
    "cnn.add(tf.keras.layers.MaxPool2D(pool_size=2, strides=2))"
   ]
  },
  {
   "cell_type": "code",
   "execution_count": 59,
   "metadata": {},
   "outputs": [],
   "source": [
    "cnn.add(tf.keras.layers.Flatten())  #flattening"
   ]
  },
  {
   "cell_type": "code",
   "execution_count": 60,
   "metadata": {},
   "outputs": [],
   "source": [
    "cnn.add(tf.keras.layers.Dense(units=128, activation='relu'))     #fullly connected layer"
   ]
  },
  {
   "cell_type": "code",
   "execution_count": 61,
   "metadata": {},
   "outputs": [],
   "source": [
    "cnn.add(tf.keras.layers.Dense(units=1, activation='sigmoid'))     #output layer"
   ]
  },
  {
   "cell_type": "code",
   "execution_count": 62,
   "metadata": {},
   "outputs": [],
   "source": [
    "cnn.compile(optimizer = 'adam', loss = 'binary_crossentropy', metrics = ['accuracy'])"
   ]
  },
  {
   "cell_type": "code",
   "execution_count": 63,
   "metadata": {},
   "outputs": [
    {
     "name": "stdout",
     "output_type": "stream",
     "text": [
      "Model: \"sequential_5\"\n",
      "_________________________________________________________________\n",
      "Layer (type)                 Output Shape              Param #   \n",
      "=================================================================\n",
      "conv2d_9 (Conv2D)            (None, 62, 62, 32)        896       \n",
      "_________________________________________________________________\n",
      "max_pooling2d_6 (MaxPooling2 (None, 31, 31, 32)        0         \n",
      "_________________________________________________________________\n",
      "conv2d_10 (Conv2D)           (None, 29, 29, 32)        9248      \n",
      "_________________________________________________________________\n",
      "max_pooling2d_7 (MaxPooling2 (None, 14, 14, 32)        0         \n",
      "_________________________________________________________________\n",
      "flatten_3 (Flatten)          (None, 6272)              0         \n",
      "_________________________________________________________________\n",
      "dense_8 (Dense)              (None, 128)               802944    \n",
      "_________________________________________________________________\n",
      "dense_9 (Dense)              (None, 1)                 129       \n",
      "=================================================================\n",
      "Total params: 813,217\n",
      "Trainable params: 813,217\n",
      "Non-trainable params: 0\n",
      "_________________________________________________________________\n"
     ]
    }
   ],
   "source": [
    "cnn.summary()"
   ]
  },
  {
   "cell_type": "code",
   "execution_count": 64,
   "metadata": {},
   "outputs": [
    {
     "name": "stdout",
     "output_type": "stream",
     "text": [
      "Epoch 1/25\n",
      "250/250 [==============================] - 456s 2s/step - loss: 0.6791 - accuracy: 0.5700 - val_loss: 0.6443 - val_accuracy: 0.6535\n",
      "Epoch 2/25\n",
      "250/250 [==============================] - 78s 312ms/step - loss: 0.6110 - accuracy: 0.6719 - val_loss: 0.6451 - val_accuracy: 0.6115\n",
      "Epoch 3/25\n",
      "250/250 [==============================] - 78s 313ms/step - loss: 0.5649 - accuracy: 0.7094 - val_loss: 0.6119 - val_accuracy: 0.6775\n",
      "Epoch 4/25\n",
      "250/250 [==============================] - 79s 316ms/step - loss: 0.5299 - accuracy: 0.7319 - val_loss: 0.5096 - val_accuracy: 0.7465\n",
      "Epoch 5/25\n",
      "250/250 [==============================] - 78s 313ms/step - loss: 0.5096 - accuracy: 0.7489 - val_loss: 0.4935 - val_accuracy: 0.7700\n",
      "Epoch 6/25\n",
      "250/250 [==============================] - 78s 313ms/step - loss: 0.4911 - accuracy: 0.7602 - val_loss: 0.4917 - val_accuracy: 0.7745\n",
      "Epoch 7/25\n",
      "250/250 [==============================] - 79s 314ms/step - loss: 0.4781 - accuracy: 0.7707 - val_loss: 0.4896 - val_accuracy: 0.7645\n",
      "Epoch 8/25\n",
      "250/250 [==============================] - 79s 316ms/step - loss: 0.4583 - accuracy: 0.7834 - val_loss: 0.4771 - val_accuracy: 0.7855\n",
      "Epoch 9/25\n",
      "250/250 [==============================] - 78s 310ms/step - loss: 0.4495 - accuracy: 0.7846 - val_loss: 0.4788 - val_accuracy: 0.7710\n",
      "Epoch 10/25\n",
      "250/250 [==============================] - 80s 319ms/step - loss: 0.4418 - accuracy: 0.7915 - val_loss: 0.4566 - val_accuracy: 0.7940\n",
      "Epoch 11/25\n",
      "250/250 [==============================] - 78s 313ms/step - loss: 0.4248 - accuracy: 0.8037 - val_loss: 0.4579 - val_accuracy: 0.7860\n",
      "Epoch 12/25\n",
      "250/250 [==============================] - 79s 318ms/step - loss: 0.4209 - accuracy: 0.8056 - val_loss: 0.4680 - val_accuracy: 0.7850\n",
      "Epoch 13/25\n",
      "250/250 [==============================] - 75s 302ms/step - loss: 0.4147 - accuracy: 0.8094 - val_loss: 0.4776 - val_accuracy: 0.7880\n",
      "Epoch 14/25\n",
      "250/250 [==============================] - 79s 314ms/step - loss: 0.3984 - accuracy: 0.8150 - val_loss: 0.4362 - val_accuracy: 0.7990\n",
      "Epoch 15/25\n",
      "250/250 [==============================] - 81s 326ms/step - loss: 0.3909 - accuracy: 0.8206 - val_loss: 0.4489 - val_accuracy: 0.8005\n",
      "Epoch 16/25\n",
      "250/250 [==============================] - 81s 323ms/step - loss: 0.3862 - accuracy: 0.8245 - val_loss: 0.4269 - val_accuracy: 0.8120\n",
      "Epoch 17/25\n",
      "250/250 [==============================] - 78s 312ms/step - loss: 0.3699 - accuracy: 0.8347 - val_loss: 0.4329 - val_accuracy: 0.8120\n",
      "Epoch 18/25\n",
      "250/250 [==============================] - 78s 312ms/step - loss: 0.3637 - accuracy: 0.8339 - val_loss: 0.4393 - val_accuracy: 0.8050\n",
      "Epoch 19/25\n",
      "250/250 [==============================] - 79s 315ms/step - loss: 0.3514 - accuracy: 0.8414 - val_loss: 0.4450 - val_accuracy: 0.8105\n",
      "Epoch 20/25\n",
      "250/250 [==============================] - 79s 315ms/step - loss: 0.3494 - accuracy: 0.8451 - val_loss: 0.4216 - val_accuracy: 0.8240\n",
      "Epoch 21/25\n",
      "250/250 [==============================] - 79s 315ms/step - loss: 0.3431 - accuracy: 0.8454 - val_loss: 0.4331 - val_accuracy: 0.8210\n",
      "Epoch 22/25\n",
      "250/250 [==============================] - 78s 313ms/step - loss: 0.3411 - accuracy: 0.8453 - val_loss: 0.4450 - val_accuracy: 0.8030\n",
      "Epoch 23/25\n",
      "250/250 [==============================] - 79s 318ms/step - loss: 0.3265 - accuracy: 0.8551 - val_loss: 0.4314 - val_accuracy: 0.8210\n",
      "Epoch 24/25\n",
      "250/250 [==============================] - 79s 314ms/step - loss: 0.3291 - accuracy: 0.8533 - val_loss: 0.4445 - val_accuracy: 0.8120\n",
      "Epoch 25/25\n",
      "250/250 [==============================] - 68s 270ms/step - loss: 0.3108 - accuracy: 0.8621 - val_loss: 0.4499 - val_accuracy: 0.8245\n"
     ]
    },
    {
     "data": {
      "text/plain": [
       "<tensorflow.python.keras.callbacks.History at 0x2dea170c9a0>"
      ]
     },
     "execution_count": 64,
     "metadata": {},
     "output_type": "execute_result"
    }
   ],
   "source": [
    "cnn.fit(x = training_set, validation_data = test_set, epochs = 25)"
   ]
  },
  {
   "cell_type": "code",
   "execution_count": 76,
   "metadata": {},
   "outputs": [],
   "source": [
    "import numpy as np       \n",
    "from keras.preprocessing import image   #prediction for single image"
   ]
  },
  {
   "cell_type": "code",
   "execution_count": 71,
   "metadata": {},
   "outputs": [],
   "source": [
    "test_image =  image.load_img(r'D:\\chrome_Download\\Section+40+-+Convolutional+Neural+Networks+(CNN)\\Section 40 - Convolutional Neural Networks (CNN)\\dataset\\single_prediction\\cat_or_dog_1.jpg',target_size=(64,64))\n",
    "test_image = image.img_to_array(test_image)   #predict method expects an array so we need to covert our image to an array\n",
    "test_image = np.expand_dims(test_image,axis=0)  #for expanding the shape of our image array"
   ]
  },
  {
   "cell_type": "code",
   "execution_count": 74,
   "metadata": {},
   "outputs": [],
   "source": [
    "result = cnn.predict(test_image)\n",
    "training_set.class_indices  \n",
    "if result[0][0] == 1:\n",
    "    prediction = 'Dog'\n",
    "else:\n",
    "    prediction = 'Cat'"
   ]
  },
  {
   "cell_type": "code",
   "execution_count": 75,
   "metadata": {},
   "outputs": [
    {
     "name": "stdout",
     "output_type": "stream",
     "text": [
      "Dog\n"
     ]
    }
   ],
   "source": [
    "print(prediction)"
   ]
  },
  {
   "cell_type": "code",
   "execution_count": null,
   "metadata": {},
   "outputs": [],
   "source": []
  }
 ],
 "metadata": {
  "kernelspec": {
   "display_name": "Python 3",
   "language": "python",
   "name": "python3"
  },
  "language_info": {
   "codemirror_mode": {
    "name": "ipython",
    "version": 3
   },
   "file_extension": ".py",
   "mimetype": "text/x-python",
   "name": "python",
   "nbconvert_exporter": "python",
   "pygments_lexer": "ipython3",
   "version": "3.8.3"
  }
 },
 "nbformat": 4,
 "nbformat_minor": 4
}
